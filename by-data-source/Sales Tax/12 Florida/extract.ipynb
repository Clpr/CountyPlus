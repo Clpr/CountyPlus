{
 "cells": [
  {
   "cell_type": "code",
   "execution_count": 52,
   "id": "d049ca32-cc1f-4ddf-8d30-a5b4519206e6",
   "metadata": {
    "tags": []
   },
   "outputs": [],
   "source": [
    "# PROCESS AND AGGREGATE DATA\n",
    "import pandas as pd\n",
    "\n",
    "SHEET_NAMES = [\n",
    "    'Alachua',\n",
    "    'Baker',\n",
    "    'Bay',\n",
    "    'Bradford',\n",
    "    'Brevard',\n",
    "    'Broward',\n",
    "    'Calhoun',\n",
    "    'Charlotte',\n",
    "    'Citrus',\n",
    "    'Clay',\n",
    "    'Collier',\n",
    "    'Columbia',\n",
    "    'Miami-Dade',\n",
    "    'De Soto',\n",
    "    'Dixie',\n",
    "    'Duval',\n",
    "    'Escambia',\n",
    "    'Flagler',\n",
    "    'Franklin',\n",
    "    'Gadsden',\n",
    "    'Gilchrist',\n",
    "    'Glades',\n",
    "    'Gulf',\n",
    "    'Hamilton',\n",
    "    'Hardee',\n",
    "    'Hendry',\n",
    "    'Hernando',\n",
    "    'Highlands',\n",
    "    'Hillsborough',\n",
    "    'Holmes',\n",
    "    'Indian River',\n",
    "    'Jackson',\n",
    "    'Jefferson',\n",
    "    'Lafayette',\n",
    "    'Lake',\n",
    "    'Lee',\n",
    "    'Leon',\n",
    "    'Levy',\n",
    "    'Liberty',\n",
    "    'Madison',\n",
    "    'Manatee',\n",
    "    'Marion',\n",
    "    'Martin',\n",
    "    'Monroe',\n",
    "    'Nassau',\n",
    "    'Okaloosa',\n",
    "    'Okeechobee',\n",
    "    'Orange',\n",
    "    'Osceola',\n",
    "    'Palm Beach',\n",
    "    'Pasco',\n",
    "    'Pinellas',\n",
    "    'Polk',\n",
    "    'Putnam',\n",
    "    'St. Johns',\n",
    "    'St. Lucie',\n",
    "    'Santa Rosa',\n",
    "    'Sarasota',\n",
    "    'Seminole',\n",
    "    'Sumter',\n",
    "    'Suwannee',\n",
    "    'Taylor',\n",
    "    'Union',\n",
    "    'Volusia',\n",
    "    'Wakulla',\n",
    "    'Walton',\n",
    "    'Washington'\n",
    "]\n",
    "\n",
    "YEARS = [\n",
    "    '0001',\n",
    "    '0203',\n",
    "    '0405',\n",
    "    '0607',\n",
    "    '0809',\n",
    "    '1011',\n",
    "    '1213',\n",
    "    '1415',\n",
    "    '1617',\n",
    "    '1819'\n",
    "]\n",
    "\n",
    "HEADER_ROW = [\n",
    "    10,\n",
    "    10,\n",
    "    10,\n",
    "    10,\n",
    "    10,\n",
    "    10,\n",
    "    10,\n",
    "    10,\n",
    "    11,\n",
    "    10\n",
    "]\n",
    "\n",
    "res : dict = {}"
   ]
  },
  {
   "cell_type": "code",
   "execution_count": 53,
   "id": "59eb341d-294a-4e8b-9339-cc9b771fa85d",
   "metadata": {
    "tags": []
   },
   "outputs": [
    {
     "name": "stdout",
     "output_type": "stream",
     "text": [
      "0001 done\n",
      "0203 done\n",
      "0405 done\n",
      "0607 done\n",
      "0809 done\n",
      "1011 done\n",
      "1213 done\n",
      "1415 done\n",
      "1617 done\n",
      "1819 done\n",
      "all done\n"
     ]
    }
   ],
   "source": [
    "for j,t in enumerate(YEARS):\n",
    "    dfs : dict = pd.read_excel(\n",
    "        'Copy of F10_grsales_cy' + t + '.xlsx', \n",
    "        sheet_name = SHEET_NAMES,\n",
    "        header = HEADER_ROW[j]\n",
    "    )\n",
    "    dat : dict = {}\n",
    "    dat['date'] = list(dfs[SHEET_NAMES[0]].columns)[2:]\n",
    "    for s in SHEET_NAMES:\n",
    "        # locate total row\n",
    "        _row = dfs[s].loc[dfs[s]['Kind Code'] == 'Total of All Kind Codes']\n",
    "        dat[s] = _row.iloc[:,2:].values.flatten().tolist()\n",
    "    res[t] = pd.DataFrame(dat)\n",
    "    print(t + ' done')\n",
    "    \n",
    "print('all done')"
   ]
  },
  {
   "cell_type": "code",
   "execution_count": 54,
   "id": "2fc9a34a-87d2-465a-b348-978dd240ad11",
   "metadata": {
    "tags": []
   },
   "outputs": [
    {
     "name": "stdout",
     "output_type": "stream",
     "text": [
      "0001 written\n",
      "0203 written\n",
      "0405 written\n",
      "0607 written\n",
      "0809 written\n",
      "1011 written\n",
      "1213 written\n",
      "1415 written\n",
      "1617 written\n",
      "1819 written\n"
     ]
    }
   ],
   "source": [
    "writer = pd.ExcelWriter(r'extracted.xlsx')\n",
    "for k, v in res.items():\n",
    "    v.to_excel(writer, sheet_name = k)\n",
    "    print(k + ' written')\n",
    "writer.close()"
   ]
  },
  {
   "cell_type": "code",
   "execution_count": null,
   "id": "4c6d0e3b-6d66-4fa5-ab99-dfe9a3efa327",
   "metadata": {},
   "outputs": [],
   "source": []
  },
  {
   "cell_type": "code",
   "execution_count": null,
   "id": "eb7bb508-e403-4849-973b-4c636d796646",
   "metadata": {},
   "outputs": [],
   "source": []
  },
  {
   "cell_type": "code",
   "execution_count": null,
   "id": "fab6fa14-f3ea-48ff-a0b4-a4390391519a",
   "metadata": {},
   "outputs": [],
   "source": []
  },
  {
   "cell_type": "code",
   "execution_count": null,
   "id": "58d69752-c3fc-4f2b-9c0d-f31d24aa48a5",
   "metadata": {},
   "outputs": [],
   "source": []
  },
  {
   "cell_type": "code",
   "execution_count": null,
   "id": "3401f495-0a2b-498d-8309-2e8af551de9e",
   "metadata": {},
   "outputs": [],
   "source": []
  },
  {
   "cell_type": "code",
   "execution_count": null,
   "id": "268a8c8a-2d70-48eb-93dc-f0f48fe00435",
   "metadata": {},
   "outputs": [],
   "source": []
  },
  {
   "cell_type": "code",
   "execution_count": null,
   "id": "41193c80-980d-4a94-a739-545e6c0862a5",
   "metadata": {},
   "outputs": [],
   "source": []
  },
  {
   "cell_type": "code",
   "execution_count": null,
   "id": "910672af-d6d1-4ec5-8071-d4933a847cfb",
   "metadata": {},
   "outputs": [],
   "source": []
  },
  {
   "cell_type": "code",
   "execution_count": null,
   "id": "673601cc-cc90-4098-93de-b58a56ad9873",
   "metadata": {},
   "outputs": [],
   "source": []
  },
  {
   "cell_type": "code",
   "execution_count": null,
   "id": "88855c0a-7027-4c72-8491-e906bab0f06f",
   "metadata": {},
   "outputs": [],
   "source": []
  },
  {
   "cell_type": "code",
   "execution_count": null,
   "id": "eb76f67b-b999-410b-85ed-5a958e0a9f8f",
   "metadata": {},
   "outputs": [],
   "source": []
  }
 ],
 "metadata": {
  "kernelspec": {
   "display_name": "Python 3 (ipykernel)",
   "language": "python",
   "name": "python3"
  },
  "language_info": {
   "codemirror_mode": {
    "name": "ipython",
    "version": 3
   },
   "file_extension": ".py",
   "mimetype": "text/x-python",
   "name": "python",
   "nbconvert_exporter": "python",
   "pygments_lexer": "ipython3",
   "version": "3.8.16"
  }
 },
 "nbformat": 4,
 "nbformat_minor": 5
}
