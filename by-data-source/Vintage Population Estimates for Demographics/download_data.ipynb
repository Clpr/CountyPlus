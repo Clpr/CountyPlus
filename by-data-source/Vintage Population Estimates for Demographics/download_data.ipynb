{
 "cells": [
  {
   "cell_type": "code",
   "execution_count": 2,
   "id": "44a75aba-c1b4-4226-88d3-ca903ba3e433",
   "metadata": {},
   "outputs": [],
   "source": [
    "# download data from Census Bureau's server\n",
    "# REFERENCE: https://stackoverflow.com/questions/56950987/download-file-from-url-and-save-it-in-a-folder-python\n",
    "# Notice: the working directory is `Vintage population estimates for demographics`\n",
    "\n",
    "import os\n",
    "import requests\n",
    "import time\n",
    "\n",
    "\n",
    "def download(url: str, dest_folder: str):\n",
    "    if not os.path.exists(dest_folder):\n",
    "        os.makedirs(dest_folder)  # create folder if it does not exist\n",
    "\n",
    "    filename = url.split('/')[-1].replace(\" \", \"_\")  # be careful with file names\n",
    "    file_path = os.path.join(dest_folder, filename)\n",
    "\n",
    "    r = requests.get(url, stream=True)\n",
    "    if r.ok:\n",
    "        print(\"saving to\", os.path.abspath(file_path))\n",
    "        with open(file_path, 'wb') as f:\n",
    "            for chunk in r.iter_content(chunk_size=1024 * 8):\n",
    "                if chunk:\n",
    "                    f.write(chunk)\n",
    "                    f.flush()\n",
    "                    os.fsync(f.fileno())\n",
    "    else:  # HTTP status code 4XX/5XX\n",
    "        print(\"Download failed: status code {}\\n{}\".format(r.status_code, r.text))\n",
    "\n",
    "\n",
    "def fips2str(i : int) -> str:\n",
    "    if i < 10:\n",
    "        return '0' + str(i)\n",
    "    else:\n",
    "        return str(i)"
   ]
  },
  {
   "cell_type": "code",
   "execution_count": null,
   "id": "cae34412-eae0-49a6-b958-6865a6b09fe7",
   "metadata": {},
   "outputs": [],
   "source": [
    "# 2010\n",
    "FolderURL = 'https://www2.census.gov/programs-surveys/popest/datasets/2000-2010/intercensal/county/'\n",
    "FipsState = [1,2,4,5,6,8,9,10,11,12,13,15] + list(range(16,43)) + list(range(44,52)) + [53,54,55,56]\n",
    "for i in FipsState:\n",
    "    download(FolderURL + 'co-est00int-alldata-' + fips2str(i) + '.csv', '2000-2010')\n",
    "    time.sleep(2)"
   ]
  },
  {
   "cell_type": "code",
   "execution_count": null,
   "id": "87620fdb-0a4b-4f9d-9b45-0402b8466f82",
   "metadata": {},
   "outputs": [],
   "source": [
    "# 2009\n",
    "FolderURL = 'https://www2.census.gov/programs-surveys/popest/datasets/2000-2009/counties/asrh/'\n",
    "FipsState = [1,2,4,5,6,8,9,10,11,12,13,15] + list(range(16,43)) + list(range(44,52)) + [53,54,55,56]\n",
    "for i in FipsState:\n",
    "    download(FolderURL + 'cc-est2009-alldata-' + fips2str(i) + '.csv', '2000-2009')\n",
    "    time.sleep(1)"
   ]
  },
  {
   "cell_type": "code",
   "execution_count": null,
   "id": "4ddedf5f-f7d0-43d6-9be7-9e15b5e5b14e",
   "metadata": {},
   "outputs": [],
   "source": [
    "# 2008\n",
    "FolderURL = 'https://www2.census.gov/programs-surveys/popest/datasets/2000-2008/counties/asrh/'\n",
    "FipsState = [1,2,4,5,6,8,9,10,11,12,13,15] + list(range(16,43)) + list(range(44,52)) + [53,54,55,56]\n",
    "for i in FipsState:\n",
    "    download(FolderURL + 'cc-est2008-alldata-' + fips2str(i) + '.csv', '2000-2008')\n",
    "    time.sleep(1)"
   ]
  },
  {
   "cell_type": "code",
   "execution_count": null,
   "id": "d4dcfc70-8852-43cf-8352-35ed2501b77c",
   "metadata": {},
   "outputs": [],
   "source": [
    "# 2007\n",
    "FolderURL = 'https://www2.census.gov/programs-surveys/popest/datasets/2000-2007/counties/asrh/'\n",
    "FipsState = [1,2,4,5,6,8,9,10,11,12,13,15] + list(range(16,43)) + list(range(44,52)) + [53,54,55,56]\n",
    "for i in FipsState:\n",
    "    download(FolderURL + 'cc-est2007-alldata-' + fips2str(i) + '.csv', '2000-2007')\n",
    "    time.sleep(1)"
   ]
  },
  {
   "cell_type": "code",
   "execution_count": null,
   "id": "7eeb9a4d-19e2-4d93-9d17-e3aa799a76ab",
   "metadata": {},
   "outputs": [],
   "source": [
    "# 2006\n",
    "FolderURL = 'https://www2.census.gov/programs-surveys/popest/datasets/2000-2006/counties/asrh/'\n",
    "FipsState = [1,2,4,5,6,8,9,10,11,12,13,15] + list(range(16,43)) + list(range(44,52)) + [53,54,55,56]\n",
    "for i in FipsState:\n",
    "    download(FolderURL + 'cc-est2006-alldata-' + fips2str(i) + '.csv', '2000-2006')\n",
    "    time.sleep(1)"
   ]
  },
  {
   "cell_type": "code",
   "execution_count": null,
   "id": "8667fc80-b677-4738-b899-06cce65ccdcf",
   "metadata": {},
   "outputs": [],
   "source": [
    "# 2005\n",
    "FolderURL = 'https://www2.census.gov/programs-surveys/popest/datasets/2000-2005/counties/asrh/'\n",
    "FipsState = [1,2,4,5,6,8,9,10,11,12,13,15] + list(range(16,43)) + list(range(44,52)) + [53,54,55,56]\n",
    "for i in FipsState:\n",
    "    download(FolderURL + 'cc-est2005-alldata-' + fips2str(i) + '.csv', '2000-2005')\n",
    "    time.sleep(1)"
   ]
  },
  {
   "cell_type": "code",
   "execution_count": null,
   "id": "bcbb59b0-d4b0-4f03-aa79-850eb11033e9",
   "metadata": {},
   "outputs": [],
   "source": [
    "# 2004\n",
    "FolderURL = 'https://www2.census.gov/programs-surveys/popest/datasets/2000-2004/counties/asrh/'\n",
    "FipsState = [1,2,4,5,6,8,9,10,11,12,13,15] + list(range(16,43)) + list(range(44,52)) + [53,54,55,56]\n",
    "for i in FipsState:\n",
    "    download(FolderURL + 'cc_est2004_alldata_' + fips2str(i) + '.csv', '2000-2004')\n",
    "    time.sleep(1)"
   ]
  },
  {
   "cell_type": "code",
   "execution_count": null,
   "id": "bab5d8ea-aa0d-422c-91eb-88da8d63e722",
   "metadata": {},
   "outputs": [],
   "source": [
    "# 2003\n",
    "FolderURL = 'https://www2.census.gov/programs-surveys/popest/datasets/2000-2003/counties/asrh/'\n",
    "FipsState = [1,2,4,5,6,8,9,10,11,12,13,15] + list(range(16,43)) + list(range(44,52)) + [53,54,55,56]\n",
    "for i in FipsState:\n",
    "    download(FolderURL + 'cc-est2003-alldata-' + fips2str(i) + '.csv', '2000-2003')\n",
    "    time.sleep(1)"
   ]
  },
  {
   "cell_type": "code",
   "execution_count": null,
   "id": "04de18f6-0121-40c1-b01c-f360f9e77ff7",
   "metadata": {},
   "outputs": [],
   "source": []
  },
  {
   "cell_type": "code",
   "execution_count": null,
   "id": "c4fa354d-e70d-41e6-ab40-aacc5cd3d086",
   "metadata": {},
   "outputs": [],
   "source": []
  },
  {
   "cell_type": "code",
   "execution_count": null,
   "id": "b92c4249-c02f-43f4-a737-ce93495fc660",
   "metadata": {},
   "outputs": [],
   "source": []
  },
  {
   "cell_type": "code",
   "execution_count": null,
   "id": "3150e62e-3d24-40a8-b24f-8b2f83a07e76",
   "metadata": {},
   "outputs": [],
   "source": []
  },
  {
   "cell_type": "code",
   "execution_count": null,
   "id": "7e775e58-8c9a-432c-843d-2ac23cd43c40",
   "metadata": {},
   "outputs": [],
   "source": []
  },
  {
   "cell_type": "code",
   "execution_count": null,
   "id": "4fb31665-e24c-4b3c-8991-4cdbaba25476",
   "metadata": {},
   "outputs": [],
   "source": []
  },
  {
   "cell_type": "code",
   "execution_count": null,
   "id": "2064b5f2-dd87-4cfd-97c6-65597ad6e15f",
   "metadata": {},
   "outputs": [],
   "source": []
  },
  {
   "cell_type": "code",
   "execution_count": null,
   "id": "249b5d7e-5d7d-4dd3-8faa-6eefce6a3593",
   "metadata": {},
   "outputs": [],
   "source": []
  },
  {
   "cell_type": "code",
   "execution_count": null,
   "id": "77ab2f3d-af23-4b29-bf01-bb55b285bf90",
   "metadata": {},
   "outputs": [],
   "source": []
  },
  {
   "cell_type": "code",
   "execution_count": null,
   "id": "b8c113b1-4312-4208-9593-17e2ade375ae",
   "metadata": {},
   "outputs": [],
   "source": []
  },
  {
   "cell_type": "code",
   "execution_count": null,
   "id": "0fd8a74b-7f11-4903-b62e-0207496fe8a5",
   "metadata": {},
   "outputs": [],
   "source": []
  },
  {
   "cell_type": "code",
   "execution_count": null,
   "id": "4270c2e8-10fa-4145-903e-238b7f8b0bbd",
   "metadata": {},
   "outputs": [],
   "source": []
  },
  {
   "cell_type": "code",
   "execution_count": null,
   "id": "258fd9bc-541d-435f-b36a-904f2210f511",
   "metadata": {},
   "outputs": [],
   "source": []
  }
 ],
 "metadata": {
  "kernelspec": {
   "display_name": "Python 3 (ipykernel)",
   "language": "python",
   "name": "python3"
  },
  "language_info": {
   "codemirror_mode": {
    "name": "ipython",
    "version": 3
   },
   "file_extension": ".py",
   "mimetype": "text/x-python",
   "name": "python",
   "nbconvert_exporter": "python",
   "pygments_lexer": "ipython3",
   "version": "3.9.13"
  }
 },
 "nbformat": 4,
 "nbformat_minor": 5
}
